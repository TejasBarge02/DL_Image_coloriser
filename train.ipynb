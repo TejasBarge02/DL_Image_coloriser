{
  "nbformat": 4,
  "nbformat_minor": 0,
  "metadata": {
    "orig_nbformat": 2,
    "colab": {
      "name": "train.ipynb",
      "provenance": [],
      "collapsed_sections": []
    },
    "accelerator": "GPU",
    "kernelspec": {
      "name": "python3",
      "display_name": "Python 3"
    }
  },
  "cells": [
    {
      "cell_type": "code",
      "metadata": {
        "id": "epYkvO5DZ8fO"
      },
      "source": [
        "# from google.colab import drive\n",
        "# drive.mount('/content/drive')"
      ],
      "execution_count": 1,
      "outputs": []
    },
    {
      "cell_type": "code",
      "metadata": {
        "id": "ujoucnL92gHz"
      },
      "source": [
        "# Download and unzip (2.2GB)\n",
        "# !wget http://data.csail.mit.edu/places/places205/testSetPlaces205_resize.tar.gz\n",
        "# !mkdir images/\n",
        "# !tar -xzf drive/MyDrive/testSetPlaces205_resize.tar.gz -C 'images/'"
      ],
      "execution_count": 2,
      "outputs": []
    },
    {
      "cell_type": "code",
      "metadata": {
        "id": "WLSho49F2gH4"
      },
      "source": [
        "import torch\n",
        "import torch.nn as nn\n",
        "import torch.optim as optim\n",
        "import torchvision.transforms as transforms\n",
        "\n",
        "from tqdm import tqdm\n",
        "from network import ColorizeNet\n",
        "from utils import GrayscaleImageFolder"
      ],
      "execution_count": 3,
      "outputs": []
    },
    {
      "cell_type": "code",
      "metadata": {
        "id": "uMm3W-rU2gH_"
      },
      "source": [
        "device = torch.device('cuda:0' if torch.cuda.is_available() else 'cpu')"
      ],
      "execution_count": 4,
      "outputs": []
    },
    {
      "cell_type": "code",
      "metadata": {
        "id": "jBtiwB1F2gIA"
      },
      "source": [
        "transform = transforms.Compose([\n",
        "    transforms.RandomResizedCrop(224),\n",
        "    transforms.RandomHorizontalFlip()\n",
        "])\n",
        "\n",
        "train_set = GrayscaleImageFolder('images/', transform=transform)\n",
        "train_loader = torch.utils.data.DataLoader(train_set, batch_size=128, shuffle=True, num_workers=4)"
      ],
      "execution_count": 5,
      "outputs": []
    },
    {
      "cell_type": "code",
      "metadata": {
        "id": "UNAp9XJg2gIC"
      },
      "source": [
        "criterion = nn.MSELoss()\n",
        "\n",
        "model = ColorizeNet().to(device)\n",
        "optimizer = optim.Adam(model.parameters(), lr=0.003)\n",
        "# scheduler = optim.lr_scheduler.MultiStepLR(optimizer, milestones=[17, 47], gamma=1/3)\n",
        "scheduler = optim.lr_scheduler.ReduceLROnPlateau(optimizer, factor=1/3, patience=5, verbose=True)"
      ],
      "execution_count": 6,
      "outputs": []
    },
    {
      "cell_type": "code",
      "metadata": {
        "id": "PQ4DS78jnGwa"
      },
      "source": [
        "try:\n",
        "    checkpoint = torch.load('models/model_0.001.pth', map_location=device)\n",
        "    start_epoch = checkpoint['next_epoch']\n",
        "    model.load_state_dict(checkpoint['model'])\n",
        "    optimizer.load_state_dict(checkpoint['optimizer'])\n",
        "    scheduler.load_state_dict(checkpoint['scheduler'])\n",
        "    \n",
        "except:\n",
        "    start_epoch = 0"
      ],
      "execution_count": 7,
      "outputs": []
    },
    {
      "cell_type": "markdown",
      "metadata": {
        "id": "qrxEB7-BxYOB"
      },
      "source": [
        "Training process:\n",
        "\n",
        "| start_epoch | end_epoch | learning_rate |\n",
        "| -: | -: | -: |\n",
        "| 0 | 18 | 0.03 |\n",
        "| 19 | 48 | 0.01 |\n",
        "| 49 | 62 | 0.003 |\n",
        "| 63 | 68 | 0.001 |"
      ]
    },
    {
      "cell_type": "code",
      "metadata": {
        "id": "r6TCmUof2gID",
        "colab": {
          "base_uri": "https://localhost:8080/"
        },
        "outputId": "b1112960-77a0-412e-81d5-17224639cf95"
      },
      "source": [
        "num_epochs = 69\n",
        "for epoch in range(start_epoch, num_epochs):\n",
        "    train_loss = 0\n",
        "    loop = tqdm(train_loader)\n",
        "    for batch in loop:\n",
        "        in_gray, in_ab = batch[0].to(device), batch[1].to(device)\n",
        "        out_ab = model(in_gray)\n",
        "        loss = criterion(out_ab, in_ab)\n",
        "        optimizer.zero_grad()\n",
        "        loss.backward()\n",
        "        optimizer.step()\n",
        "\n",
        "        train_loss += loss.item()*in_gray.size(0)\n",
        "        loop.set_description(f'Epoch [{epoch+1:2d}/{num_epochs}]')\n",
        "        loop.set_postfix(loss=train_loss)\n",
        "\n",
        "    scheduler.step(train_loss)\n",
        "    checkpoint = {\n",
        "        'next_epoch': epoch + 1,\n",
        "        'model': model.state_dict(),\n",
        "        'optimizer': optimizer.state_dict(),\n",
        "        'scheduler': scheduler.state_dict()\n",
        "    }\n",
        "    torch.save(checkpoint, f'models/model_{scheduler._last_lr[0]}.pth')"
      ],
      "execution_count": 8,
      "outputs": [
        {
          "output_type": "stream",
          "text": [
            "Epoch [56/69]: 100%|██████████| 321/321 [10:43<00:00,  2.01s/it, loss=99.6]\n",
            "Epoch [57/69]: 100%|██████████| 321/321 [10:40<00:00,  1.99s/it, loss=99.1]\n",
            "Epoch [58/69]: 100%|██████████| 321/321 [10:41<00:00,  2.00s/it, loss=99.3]\n",
            "Epoch [59/69]: 100%|██████████| 321/321 [10:57<00:00,  2.05s/it, loss=99.3]\n",
            "Epoch [60/69]: 100%|██████████| 321/321 [11:42<00:00,  2.19s/it, loss=99.3]\n",
            "Epoch [61/69]: 100%|██████████| 321/321 [11:55<00:00,  2.23s/it, loss=99.4]\n",
            "Epoch [62/69]: 100%|██████████| 321/321 [11:57<00:00,  2.23s/it, loss=99.1]\n",
            "Epoch [63/69]: 100%|██████████| 321/321 [12:03<00:00,  2.25s/it, loss=99.1]\n",
            "  0%|          | 0/321 [00:00<?, ?it/s]"
          ],
          "name": "stderr"
        },
        {
          "output_type": "stream",
          "text": [
            "Epoch    14: reducing learning rate of group 0 to 1.0000e-03.\n"
          ],
          "name": "stdout"
        },
        {
          "output_type": "stream",
          "text": [
            "Epoch [64/69]: 100%|██████████| 321/321 [11:54<00:00,  2.23s/it, loss=98.2]\n",
            "Epoch [65/69]: 100%|██████████| 321/321 [11:21<00:00,  2.12s/it, loss=98.3]\n",
            "Epoch [66/69]: 100%|██████████| 321/321 [11:11<00:00,  2.09s/it, loss=98.2]\n",
            "Epoch [67/69]: 100%|██████████| 321/321 [11:17<00:00,  2.11s/it, loss=98.3]\n",
            "Epoch [68/69]: 100%|██████████| 321/321 [11:31<00:00,  2.16s/it, loss=98.3]\n",
            "Epoch [69/69]: 100%|██████████| 321/321 [11:15<00:00,  2.10s/it, loss=98.1]\n"
          ],
          "name": "stderr"
        }
      ]
    }
  ]
}